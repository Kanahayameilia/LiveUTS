{
  "nbformat": 4,
  "nbformat_minor": 0,
  "metadata": {
    "colab": {
      "provenance": []
    },
    "kernelspec": {
      "name": "python3",
      "display_name": "Python 3"
    },
    "language_info": {
      "name": "python"
    }
  },
  "cells": [
    {
      "cell_type": "code",
      "source": [
        "NPM = input(\"Masukkan NPM: \")\n",
        "print(\"NPM Anda adalah: \", NPM)\n",
        "\n",
        "bilangan_genap = 0\n",
        "bilangan_ganjil = 0\n",
        "\n",
        "if bilangan_genap % 2 == 0:\n",
        "  bilangan_genap += 2\n",
        "else:\n",
        "    bilangan_ganjil += 1\n",
        "\n",
        "print(\"Jumlah bilangan genap: \", bilangan_genap)\n",
        "print(\"Jumlah bilangan ganjil: \", bilangan_ganjil)"
      ],
      "metadata": {
        "colab": {
          "base_uri": "https://localhost:8080/"
        },
        "id": "2zeF4VsJhR7C",
        "outputId": "2559fd8a-099c-4671-fb16-305e2df09c7a"
      },
      "execution_count": 36,
      "outputs": [
        {
          "output_type": "stream",
          "name": "stdout",
          "text": [
            "Masukkan NPM: 2420506021\n",
            "NPM Anda adalah:  2420506021\n",
            "Jumlah bilangan genap:  2\n",
            "Jumlah bilangan ganjil:  0\n"
          ]
        }
      ]
    },
    {
      "cell_type": "code",
      "source": [
        "seg = int(input(\"Masukkan jumlah baris untuk segitiga angka: \"))\n",
        "\n",
        "for i in range(1, seg + 1):\n",
        "    for j in range(1, i + 1):\n",
        "        print(j, end=\" \")\n",
        "\n",
        "    print()"
      ],
      "metadata": {
        "colab": {
          "base_uri": "https://localhost:8080/"
        },
        "id": "dqXtlyYna-I6",
        "outputId": "300bfe7d-c116-481c-ec37-d8921881fe10"
      },
      "execution_count": 6,
      "outputs": [
        {
          "output_type": "stream",
          "name": "stdout",
          "text": [
            "Masukkan jumlah baris untuk segitiga angka: 10\n",
            "1 \n",
            "1 2 \n",
            "1 2 3 \n",
            "1 2 3 4 \n",
            "1 2 3 4 5 \n",
            "1 2 3 4 5 6 \n",
            "1 2 3 4 5 6 7 \n",
            "1 2 3 4 5 6 7 8 \n",
            "1 2 3 4 5 6 7 8 9 \n",
            "1 2 3 4 5 6 7 8 9 10 \n"
          ]
        }
      ]
    }
  ]
}